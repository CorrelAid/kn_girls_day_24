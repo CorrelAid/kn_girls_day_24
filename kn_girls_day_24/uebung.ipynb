{
 "cells": [
  {
   "cell_type": "markdown",
   "metadata": {},
   "source": [
    "# Girl's Day 2024"
   ]
  },
  {
   "cell_type": "markdown",
   "metadata": {},
   "source": [
    "#### Pakete\n",
    "\n",
    "In python kannst du neue Funktionen herunterladen, die du verwenden kannst, um mit Daten zu arbeiten oder sie darzustellen. Funktionen kommen in Paketen. Importiere als erstes die Pakete, indem du die Zelle ausführst."
   ]
  },
  {
   "cell_type": "code",
   "execution_count": null,
   "metadata": {},
   "outputs": [],
   "source": [
    "# Pakete herunterladen\n",
    "import numpy as np\n",
    "import pandas as pd\n",
    "import matplotlib.pyplot as plt"
   ]
  },
  {
   "cell_type": "markdown",
   "metadata": {},
   "source": [
    "Wir beginnen mit zwei Begriffen, die du in jeder Programmiersprache findest: **Variablen** und **Funktionen**.\n",
    "### Variablen\n",
    "\n",
    "Eine **Variable** ist ein Name, dem wir einem Wert zuweisen können. Du kannst zum Beispiel eine Variable mit dem Namen \"Jahr\" erstellen, die den Wert \"2024\" annimmt:"
   ]
  },
  {
   "cell_type": "code",
   "execution_count": null,
   "metadata": {},
   "outputs": [],
   "source": [
    "jahr = 2024\n",
    "jahr"
   ]
  },
  {
   "cell_type": "markdown",
   "metadata": {},
   "source": [
    "Du kannst den Wert deiner Variable jederzeit ändern."
   ]
  },
  {
   "cell_type": "code",
   "execution_count": null,
   "metadata": {},
   "outputs": [],
   "source": [
    "jahr = 2023\n",
    "jahr"
   ]
  },
  {
   "cell_type": "markdown",
   "metadata": {},
   "source": [
    "Du kannst Wörter und Phrasen auch in einer Variablen speichern. In diesem Fall musst du die Wörter in Anführungszeichen einschließen:\n"
   ]
  },
  {
   "cell_type": "code",
   "execution_count": null,
   "metadata": {},
   "outputs": [],
   "source": [
    "monat = \"April\"\n",
    "monat"
   ]
  },
  {
   "cell_type": "code",
   "execution_count": null,
   "metadata": {},
   "outputs": [],
   "source": [
    "datum = \"Heute ist der 25. April, 2023\"\n",
    "datum"
   ]
  },
  {
   "cell_type": "markdown",
   "metadata": {},
   "source": [
    "Du kannst mehrere Werte in einer **Liste** speichern:"
   ]
  },
  {
   "cell_type": "code",
   "execution_count": null,
   "metadata": {},
   "outputs": [],
   "source": [
    "sommer = [\"Juli\", \"August\", \"September\"]\n",
    "sommer"
   ]
  },
  {
   "cell_type": "markdown",
   "metadata": {},
   "source": [
    "#### Übung 1.1"
   ]
  },
  {
   "cell_type": "markdown",
   "metadata": {},
   "source": [
    "Speichere den Namen eines beliebigen Musikers oder Musikerin oder einer Band in einer **Variable**. Achte bitte darauf, dass der Name richtig geschrieben ist, damit wir ihn später verwenden können."
   ]
  },
  {
   "cell_type": "code",
   "execution_count": null,
   "metadata": {},
   "outputs": [],
   "source": [
    "artist ="
   ]
  },
  {
   "cell_type": "markdown",
   "metadata": {},
   "source": [
    "Speichere die Namen von 2 oder mehr beliebigen Musikern oder Musikerinnen oder Bands in einer **Liste**:"
   ]
  },
  {
   "cell_type": "code",
   "execution_count": null,
   "metadata": {},
   "outputs": [],
   "source": [
    "artists = "
   ]
  },
  {
   "cell_type": "markdown",
   "metadata": {},
   "source": [
    "### Funktionen\n",
    "\n",
    "Eine **Funktion** ist ein Abschnitt von Code, der eine bestimmte Aufgabe erledigt. Du kannst zum Beispiel Zahlen mit der Funktion **np.sum()** addieren."
   ]
  },
  {
   "cell_type": "code",
   "execution_count": null,
   "metadata": {},
   "outputs": [],
   "source": [
    "np.sum([2, 17, 34])"
   ]
  },
  {
   "cell_type": "markdown",
   "metadata": {},
   "source": [
    "\n",
    "Du kannst das Ergebnis einer Funktion in einer Variablen speichern."
   ]
  },
  {
   "cell_type": "code",
   "execution_count": null,
   "metadata": {},
   "outputs": [],
   "source": [
    "summe = np.sum([2, 17, 34])\n",
    "summe"
   ]
  },
  {
   "cell_type": "markdown",
   "metadata": {},
   "source": [
    "Man kann auch eine Variable innerhalb einer Funktion verwenden."
   ]
  },
  {
   "cell_type": "code",
   "execution_count": null,
   "metadata": {},
   "outputs": [],
   "source": [
    "summe = np.sum([jahr, 5])\n",
    "summe"
   ]
  },
  {
   "cell_type": "markdown",
   "metadata": {},
   "source": [
    "Es gibt viele verschiedene Funktionen. Hier ist ein weiteres Beispiel.\n",
    "\n",
    "Mit der Funktion **print()**, kannst du Wörter zu Sätzen und Texten zusammensetzen und dir ausgeben lassen."
   ]
  },
  {
   "cell_type": "code",
   "execution_count": null,
   "metadata": {},
   "outputs": [],
   "source": [
    "print(\"Hello, World!\" , datum, \", und es ist Girls' Day!\")"
   ]
  },
  {
   "cell_type": "markdown",
   "metadata": {},
   "source": [
    "#### Übung 1.2\n",
    "\n",
    "Addiere die Zahlen 25, 378, 87 und 63 mit der Funktion np.sum() und speichere das Ergebnis in einer Variablen namens sum1.\n"
   ]
  },
  {
   "cell_type": "code",
   "execution_count": null,
   "metadata": {},
   "outputs": [],
   "source": []
  },
  {
   "cell_type": "markdown",
   "metadata": {},
   "source": [
    "### Datensatz\n",
    "\n",
    "Im Girls' Day-Ordner befindet sich eine .csv-Datei. Du kannst sie in python mit der Funktion **pd.read_csv** öffnen.\n",
    "\n",
    "Du kannst die Datei als eine Variable speichern. "
   ]
  },
  {
   "cell_type": "code",
   "execution_count": null,
   "metadata": {},
   "outputs": [],
   "source": [
    "table = pd.read_csv('..\\data\\daten.csv')\n",
    "table.drop('Unnamed: 0', axis=1, inplace = True)\n",
    "table['datum'] = pd.to_datetime(table['datum'])"
   ]
  },
  {
   "cell_type": "markdown",
   "metadata": {},
   "source": [
    "Mit **table.head()** kann man die ersten Zeilen eines Datensatzes ansehen."
   ]
  },
  {
   "cell_type": "code",
   "execution_count": null,
   "metadata": {},
   "outputs": [],
   "source": [
    "table.head()"
   ]
  },
  {
   "cell_type": "markdown",
   "metadata": {},
   "source": [
    "Mit **table.columns** kannst du dir die Namen der einzelnen Spalten ausgeben lassen."
   ]
  },
  {
   "cell_type": "code",
   "execution_count": null,
   "metadata": {},
   "outputs": [],
   "source": [
    "table.columns"
   ]
  },
  {
   "cell_type": "markdown",
   "metadata": {},
   "source": [
    "Der Datensatz stammt von Spotify und beinhaltet die Charts seit 1958. Neben dem Interpreten des Liedes, beinhaltet der Datensatz auch weitere Infos zu dem Lied und dessen Chartplazierung.\n",
    "Mit dem folgenden Code kannst du testen, ob der Künstler oder die Künstlerin, die du vorher in der Variable **artist** gespeichert hast, auch in diesem Datensatz vorkommt:"
   ]
  },
  {
   "cell_type": "code",
   "execution_count": null,
   "metadata": {},
   "outputs": [],
   "source": [
    "artist in table['artist'].values"
   ]
  },
  {
   "cell_type": "markdown",
   "metadata": {},
   "source": [
    "#### Spalten filtern und auswählen\n",
    "Wenn du nur einen Teil des Datensatzes verwenden willst, kannst du einzelne Spalten auswählen oder den Datensatz nach Kriterien filtern. Zum Beispiel kannst du mit folgendem Code einen Datensatz erstellen, der nur aus den Liedtiteln besteht."
   ]
  },
  {
   "cell_type": "code",
   "execution_count": null,
   "metadata": {},
   "outputs": [],
   "source": [
    "table['song']"
   ]
  },
  {
   "cell_type": "markdown",
   "metadata": {},
   "source": [
    "Wenn du mehrere Spalten auswählen willst, musst du in table[] eine Liste mit den entsprechenden Spalten setzen. Zum Beispiel so:"
   ]
  },
  {
   "cell_type": "code",
   "execution_count": null,
   "metadata": {},
   "outputs": [],
   "source": [
    "table[['artist', 'song']]"
   ]
  },
  {
   "cell_type": "markdown",
   "metadata": {},
   "source": [
    "Wenn du den Datensatz nach einer bestimmten Eigenschaft filtern willst, also zum Beispiel nur die Lieder, die mal auf dem ersten Platz der Charts waren, kannst du das tun, indem du in den eckigen Klammern von **table[]** schreibst, wonach die Zeilen ausgewählt werden sollen."
   ]
  },
  {
   "cell_type": "code",
   "execution_count": null,
   "metadata": {},
   "outputs": [],
   "source": [
    "table[table['best_platz'] == 1]"
   ]
  },
  {
   "cell_type": "markdown",
   "metadata": {},
   "source": [
    "Wenn du deine Auswahl als neuen Datensatz speichern willst, kannst du das wie mit den Variablen vorher tun:"
   ]
  },
  {
   "cell_type": "code",
   "execution_count": null,
   "metadata": {},
   "outputs": [],
   "source": [
    "erst_platzierungen = table[table['best_platz'] == 1]"
   ]
  },
  {
   "cell_type": "markdown",
   "metadata": {},
   "source": [
    "#### Übung 2.1\n",
    "Filter den Datensatz 'table' danach, welche Lieder länger als 10 Wochen in den Charts waren. "
   ]
  },
  {
   "cell_type": "code",
   "execution_count": null,
   "metadata": {},
   "outputs": [],
   "source": []
  },
  {
   "cell_type": "markdown",
   "metadata": {},
   "source": [
    "Erstelle einen Datensatz, der nur das Datum und die Stimmung des Lieds enthält und nenne den Datensatz 'datum_stimmung'. "
   ]
  },
  {
   "cell_type": "code",
   "execution_count": null,
   "metadata": {},
   "outputs": [],
   "source": []
  },
  {
   "cell_type": "markdown",
   "metadata": {},
   "source": [
    "#### Gruppieren und sortieren\n",
    "Gerade haben wir im Datensatz für jede Chartplazierung in jeder Woche eine eigene Zeile. Wenn du gesammelte Informationen haben möchtest, also z.B. wie häufig jeder Musiker in den Charts war, kannst du den Datensatz danach **gruppieren**. Dafür verwendest du **table.groupby(*Spaltenname*).size().reset_index(name='count')**. Mit **groupby** wird der Datensatz gruppiert und **size()** zählt aus, wie häufig der Künstler im Datensatz vorkommt."
   ]
  },
  {
   "cell_type": "code",
   "execution_count": null,
   "metadata": {},
   "outputs": [],
   "source": [
    "table.groupby('artist').size().reset_index(name='count')"
   ]
  },
  {
   "cell_type": "markdown",
   "metadata": {},
   "source": [
    "Wenn du den Datensatz nach mehreren Spalten gleichzeitig gruppieren willst, schreibst du statt einem Spaltennamen eine Liste mit Namen. Damit kannst du zum Beispiel sehen, wie häufig ein Künstler mit einem Lied in den Charts war:"
   ]
  },
  {
   "cell_type": "code",
   "execution_count": null,
   "metadata": {},
   "outputs": [],
   "source": [
    "kuenstler_lied = table.groupby(['artist', 'song']).size().reset_index(name='anzahl')\n",
    "kuenstler_lied"
   ]
  },
  {
   "cell_type": "markdown",
   "metadata": {},
   "source": [
    "Wenn du einen Datensatz sortieren willst, kannst du das mit dem **table.sort_values(by = '*Spaltenname*')** Befehl tun. Dabei kannst du den Datensatz entweder aufsteigend sortieren mit **table.sort_values(by = '*Spaltenname*', *ascending = True*)** oder absteigend mit **table.sort_values(by = '*Spaltenname*', *ascending = False*)**.\n",
    " Wenn du zum Beispiel wissen willst, welche Lieder am häufigsten in den Charts waren, kannst du folgenden Code benutzen:"
   ]
  },
  {
   "cell_type": "code",
   "execution_count": null,
   "metadata": {},
   "outputs": [],
   "source": [
    "kuenstler_lied.sort_values(by = 'anzahl', ascending = False)"
   ]
  },
  {
   "cell_type": "markdown",
   "metadata": {},
   "source": [
    "#### Übung 2.2\n",
    "Sortiere den Datensatz danach, wie \"tanzbar\" die Lieder sind. Verwende dafür die \"Tanzbarkeit\" Spalte und sortiere die Lieder absteigend."
   ]
  },
  {
   "cell_type": "code",
   "execution_count": null,
   "metadata": {},
   "outputs": [],
   "source": []
  },
  {
   "cell_type": "markdown",
   "metadata": {},
   "source": [
    "Als nächstes wollen wir wissen, wie die Musik in den verschiedenen Chartwochen war. Gruppiere dafür nach dem Datum und berechne die durchschnittliche Tanzbarkeit und Stimmung der Lieder. Ergänze dafür den folgenden Code:"
   ]
  },
  {
   "cell_type": "code",
   "execution_count": null,
   "metadata": {},
   "outputs": [],
   "source": [
    "tanz_stimm = table.groupby('_ergänze_Spalte_zum_gruppieren')[[_hier_spalten_namen_eingeben]].mean()\n",
    "tanz_stimm"
   ]
  },
  {
   "cell_type": "markdown",
   "metadata": {},
   "source": [
    "#### Grafiken und Schaubilder\n",
    "Du kannst auch Grafiken erstellen, um Informationen besser sichtbar zu machen.\n",
    "\n",
    "##### Liniendiagramm\n",
    "\n",
    "Wenn du sehen möchtest, wie sich die Tanzbarkeit der erstplazierten Lieder über die Jahre verändert hat, kannst du eine Grafik mit dem **tanz_stimm** Datensatz erstellen. "
   ]
  },
  {
   "cell_type": "code",
   "execution_count": null,
   "metadata": {},
   "outputs": [],
   "source": [
    "plt.figure(figsize=(15, 4)) # damit kannst du die Größe der Grafik einstellen\n",
    "tanz_stimm['tanzbarkeit'].plot()"
   ]
  },
  {
   "cell_type": "markdown",
   "metadata": {},
   "source": [
    "#### Übung 3.1\n",
    "Erstelle diesen Plot nochmal für die Stimmung der Lieder. Wird die durchschnittliche Stimmung der Lieder in den Charts postiver oder negativer? (Höhere Werte deuten auf eine positivere Stimmung hin.)"
   ]
  },
  {
   "cell_type": "code",
   "execution_count": null,
   "metadata": {},
   "outputs": [],
   "source": []
  },
  {
   "cell_type": "markdown",
   "metadata": {},
   "source": [
    "##### Punktediagramm\n",
    "Wir können Zusammenhänge auch in der Form von Punkteplots darstellen. Zum Beispiel können wir untersuchen, ob Lieder, für die eine höhere Energie angegeben wird, häufiger in den Charts landen. Dafür benutzen wir folgenden gruppierten Datensatz:"
   ]
  },
  {
   "cell_type": "code",
   "execution_count": null,
   "metadata": {},
   "outputs": [],
   "source": [
    "gruppiert_song = table.groupby(['artist', 'song']).agg(Anzahl=('artist', 'size'), dauer_s=('dauer_s', 'mean'), energie=('energie', 'mean')  ).reset_index()\n"
   ]
  },
  {
   "cell_type": "markdown",
   "metadata": {},
   "source": [
    "Den Plot kannst du erstellen, indem du den folgenden Code verwendest. Der erste Spaltenname legt fest, was auf der X-Achse eingetragen wird. Der zweite legt die Werte für die Y-Achse fest."
   ]
  },
  {
   "cell_type": "code",
   "execution_count": null,
   "metadata": {},
   "outputs": [],
   "source": [
    "plt.figure(figsize=(10, 6))\n",
    "plt.scatter(gruppiert_song['Anzahl'], gruppiert_song['energie'], alpha=0.5)\n",
    "plt.xlabel('Anzahl der Chartplazierungen')\n",
    "plt.ylabel('Energie')"
   ]
  },
  {
   "cell_type": "markdown",
   "metadata": {},
   "source": [
    "#### Übung 3.2\n",
    "Man hört oft, dass Lieder kürzer sind, damit sie häufiger geklickt werden. Erstelle einen Punkteplot mit der Dauer und Anzahl der Chartplatzierungen, um zu sehen, ob kürzere Lieder auch in unserem Datensatz häufiger in den Charts sind. "
   ]
  },
  {
   "cell_type": "code",
   "execution_count": null,
   "metadata": {},
   "outputs": [],
   "source": []
  }
 ],
 "metadata": {
  "kernelspec": {
   "display_name": "kn-girls-day-24-P708afIi-py3.11",
   "language": "python",
   "name": "python3"
  },
  "language_info": {
   "codemirror_mode": {
    "name": "ipython",
    "version": 3
   },
   "file_extension": ".py",
   "mimetype": "text/x-python",
   "name": "python",
   "nbconvert_exporter": "python",
   "pygments_lexer": "ipython3",
   "version": "3.11.3"
  }
 },
 "nbformat": 4,
 "nbformat_minor": 2
}
