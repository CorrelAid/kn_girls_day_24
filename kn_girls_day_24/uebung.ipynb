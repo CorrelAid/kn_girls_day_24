{
 "cells": [
  {
   "cell_type": "markdown",
   "metadata": {},
   "source": [
    "# Girl's Day 2024"
   ]
  },
  {
   "cell_type": "markdown",
   "metadata": {},
   "source": [
    "#### Pakete\n",
    "\n",
    "In python kannst du neue Funktionen herunterladen, damit du verschiedene Sachen mit den Daten tun kannst. Funktionen kommen in Paketen."
   ]
  },
  {
   "cell_type": "code",
   "execution_count": 2,
   "metadata": {},
   "outputs": [],
   "source": [
    "# Pakete herunterladen\n",
    "import numpy as np\n",
    "import pandas as pd\n",
    "import matplotlib.pyplot as plt"
   ]
  },
  {
   "cell_type": "markdown",
   "metadata": {},
   "source": [
    "Wir beginnen mit zwei Begriffen, die du in jeder Programmiersprache findest: **Variablen** und **Funktionen**.\n",
    "### Variablen\n",
    "\n",
    "Eine **Variable** ist ein Name, den wir einem Wert zuweisen können. Du kannst zum Beispiel eine Variable mit dem Namen \"Jahr\" erstellen, die den Wert \"2024\" annimmt:"
   ]
  },
  {
   "cell_type": "code",
   "execution_count": 3,
   "metadata": {},
   "outputs": [
    {
     "data": {
      "text/plain": [
       "2024"
      ]
     },
     "execution_count": 3,
     "metadata": {},
     "output_type": "execute_result"
    }
   ],
   "source": [
    "jahr = 2024\n",
    "jahr"
   ]
  },
  {
   "cell_type": "markdown",
   "metadata": {},
   "source": [
    "Du kannst den Wert von deiner Variable jederzeit ändern."
   ]
  },
  {
   "cell_type": "code",
   "execution_count": 4,
   "metadata": {},
   "outputs": [
    {
     "data": {
      "text/plain": [
       "2023"
      ]
     },
     "execution_count": 4,
     "metadata": {},
     "output_type": "execute_result"
    }
   ],
   "source": [
    "jahr = 2023\n",
    "jahr"
   ]
  },
  {
   "cell_type": "markdown",
   "metadata": {},
   "source": [
    "Du kannst Wörter und Phrasen auch in einer Variablen speichern. In diesem Fall musst du die Wörter in Anführungszeichen einschließen:\n"
   ]
  },
  {
   "cell_type": "code",
   "execution_count": 5,
   "metadata": {},
   "outputs": [
    {
     "data": {
      "text/plain": [
       "'April'"
      ]
     },
     "execution_count": 5,
     "metadata": {},
     "output_type": "execute_result"
    }
   ],
   "source": [
    "monat = \"April\"\n",
    "monat"
   ]
  },
  {
   "cell_type": "code",
   "execution_count": 15,
   "metadata": {},
   "outputs": [
    {
     "data": {
      "text/plain": [
       "'Heute ist den 25. April, 2023'"
      ]
     },
     "execution_count": 15,
     "metadata": {},
     "output_type": "execute_result"
    }
   ],
   "source": [
    "datum = \"Heute ist der 25. April, 2023\"\n",
    "datum"
   ]
  },
  {
   "cell_type": "markdown",
   "metadata": {},
   "source": [
    "Du kannst mehrere Werte in einer **Liste** speichern:"
   ]
  },
  {
   "cell_type": "code",
   "execution_count": 16,
   "metadata": {},
   "outputs": [
    {
     "data": {
      "text/plain": [
       "['Juli', 'August', 'September']"
      ]
     },
     "execution_count": 16,
     "metadata": {},
     "output_type": "execute_result"
    }
   ],
   "source": [
    "sommer = [\"Juli\", \"August\", \"September\"]\n",
    "sommer"
   ]
  },
  {
   "cell_type": "markdown",
   "metadata": {},
   "source": [
    "#### Übung 1.1"
   ]
  },
  {
   "cell_type": "markdown",
   "metadata": {},
   "source": [
    "Speichere den Namen eines beliebigen Musikers oder Musikerin oder einer Band in einer **Variable**. Achte bitte darauf, dass der Name richtig geschrieben ist, damit wir ihn später verwenden können."
   ]
  },
  {
   "cell_type": "code",
   "execution_count": null,
   "metadata": {},
   "outputs": [],
   "source": [
    "artist ="
   ]
  },
  {
   "cell_type": "markdown",
   "metadata": {},
   "source": [
    "Speichere die Namen von 2 oder mehr beliebigen Musikern oder Musikerinnen oder Bands in einer **Liste**:"
   ]
  },
  {
   "cell_type": "code",
   "execution_count": 17,
   "metadata": {},
   "outputs": [
    {
     "ename": "SyntaxError",
     "evalue": "invalid syntax (1036026065.py, line 1)",
     "output_type": "error",
     "traceback": [
      "\u001b[1;36m  Cell \u001b[1;32mIn[17], line 1\u001b[1;36m\u001b[0m\n\u001b[1;33m    artists =\u001b[0m\n\u001b[1;37m              ^\u001b[0m\n\u001b[1;31mSyntaxError\u001b[0m\u001b[1;31m:\u001b[0m invalid syntax\n"
     ]
    }
   ],
   "source": [
    "artists = "
   ]
  },
  {
   "cell_type": "markdown",
   "metadata": {},
   "source": [
    "### Funktionen\n",
    "\n",
    "Eine **Funktion** ist ein Abschnitt von Code, der eine bestimmte Aufgabe erledigt. Du kannst zum Beispiel Zahlen mit der Funktion **sum()** addieren."
   ]
  },
  {
   "cell_type": "code",
   "execution_count": 18,
   "metadata": {},
   "outputs": [
    {
     "data": {
      "text/plain": [
       "53"
      ]
     },
     "execution_count": 18,
     "metadata": {},
     "output_type": "execute_result"
    }
   ],
   "source": [
    "np.sum([2, 17, 34])"
   ]
  },
  {
   "cell_type": "markdown",
   "metadata": {},
   "source": [
    "\n",
    "Du kannst das Ergebnis einer Funktion in einer Variablen speichern."
   ]
  },
  {
   "cell_type": "code",
   "execution_count": 19,
   "metadata": {},
   "outputs": [
    {
     "data": {
      "text/plain": [
       "53"
      ]
     },
     "execution_count": 19,
     "metadata": {},
     "output_type": "execute_result"
    }
   ],
   "source": [
    "summe = np.sum([2, 17, 34])\n",
    "summe"
   ]
  },
  {
   "cell_type": "markdown",
   "metadata": {},
   "source": [
    "Man kann auch eine Variable innerhalb einer Funktion verwenden."
   ]
  },
  {
   "cell_type": "code",
   "execution_count": 20,
   "metadata": {},
   "outputs": [
    {
     "data": {
      "text/plain": [
       "2028"
      ]
     },
     "execution_count": 20,
     "metadata": {},
     "output_type": "execute_result"
    }
   ],
   "source": [
    "summe = np.sum([jahr, 5])\n",
    "summe"
   ]
  },
  {
   "cell_type": "markdown",
   "metadata": {},
   "source": [
    "Es gibt viele verschiedene Funktionen. Hier ist ein weiteres Beispiel.\n",
    "\n",
    "Mit der Funktion **print()**, kannst du Wörter zu Sätzen und Texten zusammensetzen."
   ]
  },
  {
   "cell_type": "code",
   "execution_count": 21,
   "metadata": {},
   "outputs": [
    {
     "name": "stdout",
     "output_type": "stream",
     "text": [
      "Hello, World! Heute ist den 25. April, 2023 , und es ist Girls' Day!\n"
     ]
    }
   ],
   "source": [
    "print(\"Hello, World!\" , datum, \", und es ist Girls' Day!\")"
   ]
  },
  {
   "cell_type": "markdown",
   "metadata": {},
   "source": [
    "#### Übung 1.2\n",
    "\n",
    "1. Addiere die Zahlen 25, 378, 87 und 63 mit der Funktion np.sum() und speichere das Ergebnis in einer Variablen namens sum1.\n"
   ]
  },
  {
   "cell_type": "code",
   "execution_count": null,
   "metadata": {},
   "outputs": [],
   "source": []
  },
  {
   "cell_type": "markdown",
   "metadata": {},
   "source": [
    "### Datensatz\n",
    "\n",
    "Im Girls' Day-Ordner befindet sich eine .csv-Datei. Du kannst sie in python mit der Funktion **pd.read_csv** öffnen.\n",
    "\n",
    "Du kannst die Datei als eine Variable speichern. \n",
    "\n",
    "Oft werden solche Variablen \"df\" genannt, da eine Tabelle im Englischen als \"dataframe\" bezeichnet wird."
   ]
  },
  {
   "cell_type": "code",
   "execution_count": 7,
   "metadata": {},
   "outputs": [],
   "source": [
    "df = pd.read_csv('C:\\Correlaid\\kn_girls_day_24\\data\\daten.csv')\n",
    "df.drop('Unnamed: 0', axis=1, inplace = True)"
   ]
  },
  {
   "cell_type": "markdown",
   "metadata": {},
   "source": [
    "Mit **df.head()** kann man die ersten Zeilen eines Datensatzes ansehen."
   ]
  },
  {
   "cell_type": "code",
   "execution_count": 8,
   "metadata": {},
   "outputs": [
    {
     "data": {
      "text/html": [
       "<div>\n",
       "<style scoped>\n",
       "    .dataframe tbody tr th:only-of-type {\n",
       "        vertical-align: middle;\n",
       "    }\n",
       "\n",
       "    .dataframe tbody tr th {\n",
       "        vertical-align: top;\n",
       "    }\n",
       "\n",
       "    .dataframe thead th {\n",
       "        text-align: right;\n",
       "    }\n",
       "</style>\n",
       "<table border=\"1\" class=\"dataframe\">\n",
       "  <thead>\n",
       "    <tr style=\"text-align: right;\">\n",
       "      <th></th>\n",
       "      <th>tanzbarkeit</th>\n",
       "      <th>energie</th>\n",
       "      <th>dauer_s</th>\n",
       "      <th>artist</th>\n",
       "      <th>song</th>\n",
       "      <th>best_platz</th>\n",
       "      <th>Wochen_in_Charts</th>\n",
       "      <th>datum</th>\n",
       "      <th>stimmung</th>\n",
       "    </tr>\n",
       "  </thead>\n",
       "  <tbody>\n",
       "    <tr>\n",
       "      <th>0</th>\n",
       "      <td>0.474</td>\n",
       "      <td>0.338</td>\n",
       "      <td>153.933</td>\n",
       "      <td>Ricky Nelson</td>\n",
       "      <td>Poor Little Fool</td>\n",
       "      <td>1</td>\n",
       "      <td>1</td>\n",
       "      <td>1958-08-04</td>\n",
       "      <td>0.81</td>\n",
       "    </tr>\n",
       "    <tr>\n",
       "      <th>1</th>\n",
       "      <td>NaN</td>\n",
       "      <td>NaN</td>\n",
       "      <td>NaN</td>\n",
       "      <td>Perez Prado And His Orchestra</td>\n",
       "      <td>Patricia</td>\n",
       "      <td>2</td>\n",
       "      <td>1</td>\n",
       "      <td>1958-08-04</td>\n",
       "      <td>NaN</td>\n",
       "    </tr>\n",
       "    <tr>\n",
       "      <th>2</th>\n",
       "      <td>NaN</td>\n",
       "      <td>NaN</td>\n",
       "      <td>NaN</td>\n",
       "      <td>Bobby Darin</td>\n",
       "      <td>Splish Splash</td>\n",
       "      <td>3</td>\n",
       "      <td>1</td>\n",
       "      <td>1958-08-04</td>\n",
       "      <td>NaN</td>\n",
       "    </tr>\n",
       "    <tr>\n",
       "      <th>3</th>\n",
       "      <td>NaN</td>\n",
       "      <td>NaN</td>\n",
       "      <td>NaN</td>\n",
       "      <td>Elvis Presley With The Jordanaires</td>\n",
       "      <td>Hard Headed Woman</td>\n",
       "      <td>4</td>\n",
       "      <td>1</td>\n",
       "      <td>1958-08-04</td>\n",
       "      <td>NaN</td>\n",
       "    </tr>\n",
       "    <tr>\n",
       "      <th>4</th>\n",
       "      <td>NaN</td>\n",
       "      <td>NaN</td>\n",
       "      <td>NaN</td>\n",
       "      <td>Kalin Twins</td>\n",
       "      <td>When</td>\n",
       "      <td>5</td>\n",
       "      <td>1</td>\n",
       "      <td>1958-08-04</td>\n",
       "      <td>NaN</td>\n",
       "    </tr>\n",
       "  </tbody>\n",
       "</table>\n",
       "</div>"
      ],
      "text/plain": [
       "   tanzbarkeit  energie  dauer_s                              artist  \\\n",
       "0        0.474    0.338  153.933                        Ricky Nelson   \n",
       "1          NaN      NaN      NaN       Perez Prado And His Orchestra   \n",
       "2          NaN      NaN      NaN                         Bobby Darin   \n",
       "3          NaN      NaN      NaN  Elvis Presley With The Jordanaires   \n",
       "4          NaN      NaN      NaN                         Kalin Twins   \n",
       "\n",
       "                song  best_platz  Wochen_in_Charts       datum  stimmung  \n",
       "0   Poor Little Fool           1                 1  1958-08-04      0.81  \n",
       "1           Patricia           2                 1  1958-08-04       NaN  \n",
       "2      Splish Splash           3                 1  1958-08-04       NaN  \n",
       "3  Hard Headed Woman           4                 1  1958-08-04       NaN  \n",
       "4               When           5                 1  1958-08-04       NaN  "
      ]
     },
     "execution_count": 8,
     "metadata": {},
     "output_type": "execute_result"
    }
   ],
   "source": [
    "df.head()"
   ]
  },
  {
   "cell_type": "markdown",
   "metadata": {},
   "source": [
    "Mit **df.columns** kannst du dir die Namen der einzelnen Spalten ausgeben lassen."
   ]
  },
  {
   "cell_type": "code",
   "execution_count": 18,
   "metadata": {},
   "outputs": [
    {
     "data": {
      "text/plain": [
       "Index(['tanzbarkeit', 'energie', 'dauer_s', 'artist', 'song', 'best_platz',\n",
       "       'Wochen_in_Charts', 'datum', 'stimmung'],\n",
       "      dtype='object')"
      ]
     },
     "execution_count": 18,
     "metadata": {},
     "output_type": "execute_result"
    }
   ],
   "source": [
    "df.columns"
   ]
  },
  {
   "cell_type": "markdown",
   "metadata": {},
   "source": [
    "Der Datensatz stammt von Spotify und beinhaltet die Charts seit 1958. Neben dem Interpreten des Liedes, beinhaltet der Datensatz auch weitere Infos zu dem Lied und dessen Chartplazierung.\n",
    "Mit dem folgenden Code kannst du testen ob der Künstler oder die Künstlerin, die du vorher in der Variable **artist** gespeichert hast, auch in diesem Datensatz vorkommt:"
   ]
  },
  {
   "cell_type": "code",
   "execution_count": 10,
   "metadata": {},
   "outputs": [],
   "source": [
    "artist = \"Taylor Swift\""
   ]
  },
  {
   "cell_type": "code",
   "execution_count": 11,
   "metadata": {},
   "outputs": [
    {
     "data": {
      "text/plain": [
       "True"
      ]
     },
     "execution_count": 11,
     "metadata": {},
     "output_type": "execute_result"
    }
   ],
   "source": [
    "artist in df['artist'].values"
   ]
  },
  {
   "cell_type": "markdown",
   "metadata": {},
   "source": [
    "#### Spalten filtern und auswählen\n",
    "Wenn du nur einen Teil des Datensatzes verwenden willst, kannst du einzelne Spalten auswählen oder den Datensatz nach Kriterien filtern. Zum Beispiel kannst du mit folgendem Code einen Datensatz erstellen, der nur aus den Liedtiteln besteht."
   ]
  },
  {
   "cell_type": "code",
   "execution_count": 12,
   "metadata": {},
   "outputs": [
    {
     "data": {
      "text/plain": [
       "0              Poor Little Fool\n",
       "1                      Patricia\n",
       "2                 Splish Splash\n",
       "3             Hard Headed Woman\n",
       "4                          When\n",
       "                  ...          \n",
       "343209               La Victima\n",
       "343210          Tucson Too Late\n",
       "343211               Empire Now\n",
       "343212    Girl I've Always Been\n",
       "343213                Outskirts\n",
       "Name: song, Length: 343214, dtype: object"
      ]
     },
     "execution_count": 12,
     "metadata": {},
     "output_type": "execute_result"
    }
   ],
   "source": [
    "df['song']"
   ]
  },
  {
   "cell_type": "markdown",
   "metadata": {},
   "source": [
    "Wenn du mehrere Spalten auswählen willst, musst du in df[] eine Liste mit den entsprechenden Spalten setzen. Zum Beispiel so:"
   ]
  },
  {
   "cell_type": "code",
   "execution_count": 13,
   "metadata": {},
   "outputs": [
    {
     "data": {
      "text/html": [
       "<div>\n",
       "<style scoped>\n",
       "    .dataframe tbody tr th:only-of-type {\n",
       "        vertical-align: middle;\n",
       "    }\n",
       "\n",
       "    .dataframe tbody tr th {\n",
       "        vertical-align: top;\n",
       "    }\n",
       "\n",
       "    .dataframe thead th {\n",
       "        text-align: right;\n",
       "    }\n",
       "</style>\n",
       "<table border=\"1\" class=\"dataframe\">\n",
       "  <thead>\n",
       "    <tr style=\"text-align: right;\">\n",
       "      <th></th>\n",
       "      <th>artist</th>\n",
       "      <th>song</th>\n",
       "    </tr>\n",
       "  </thead>\n",
       "  <tbody>\n",
       "    <tr>\n",
       "      <th>0</th>\n",
       "      <td>Ricky Nelson</td>\n",
       "      <td>Poor Little Fool</td>\n",
       "    </tr>\n",
       "    <tr>\n",
       "      <th>1</th>\n",
       "      <td>Perez Prado And His Orchestra</td>\n",
       "      <td>Patricia</td>\n",
       "    </tr>\n",
       "    <tr>\n",
       "      <th>2</th>\n",
       "      <td>Bobby Darin</td>\n",
       "      <td>Splish Splash</td>\n",
       "    </tr>\n",
       "    <tr>\n",
       "      <th>3</th>\n",
       "      <td>Elvis Presley With The Jordanaires</td>\n",
       "      <td>Hard Headed Woman</td>\n",
       "    </tr>\n",
       "    <tr>\n",
       "      <th>4</th>\n",
       "      <td>Kalin Twins</td>\n",
       "      <td>When</td>\n",
       "    </tr>\n",
       "    <tr>\n",
       "      <th>...</th>\n",
       "      <td>...</td>\n",
       "      <td>...</td>\n",
       "    </tr>\n",
       "    <tr>\n",
       "      <th>343209</th>\n",
       "      <td>Xavi</td>\n",
       "      <td>La Victima</td>\n",
       "    </tr>\n",
       "    <tr>\n",
       "      <th>343210</th>\n",
       "      <td>Jordan Davis</td>\n",
       "      <td>Tucson Too Late</td>\n",
       "    </tr>\n",
       "    <tr>\n",
       "      <th>343211</th>\n",
       "      <td>Hozier</td>\n",
       "      <td>Empire Now</td>\n",
       "    </tr>\n",
       "    <tr>\n",
       "      <th>343212</th>\n",
       "      <td>Olivia Rodrigo</td>\n",
       "      <td>Girl I've Always Been</td>\n",
       "    </tr>\n",
       "    <tr>\n",
       "      <th>343213</th>\n",
       "      <td>Sam Hunt</td>\n",
       "      <td>Outskirts</td>\n",
       "    </tr>\n",
       "  </tbody>\n",
       "</table>\n",
       "<p>343214 rows × 2 columns</p>\n",
       "</div>"
      ],
      "text/plain": [
       "                                    artist                   song\n",
       "0                             Ricky Nelson       Poor Little Fool\n",
       "1            Perez Prado And His Orchestra               Patricia\n",
       "2                              Bobby Darin          Splish Splash\n",
       "3       Elvis Presley With The Jordanaires      Hard Headed Woman\n",
       "4                              Kalin Twins                   When\n",
       "...                                    ...                    ...\n",
       "343209                                Xavi             La Victima\n",
       "343210                        Jordan Davis        Tucson Too Late\n",
       "343211                              Hozier             Empire Now\n",
       "343212                      Olivia Rodrigo  Girl I've Always Been\n",
       "343213                            Sam Hunt              Outskirts\n",
       "\n",
       "[343214 rows x 2 columns]"
      ]
     },
     "execution_count": 13,
     "metadata": {},
     "output_type": "execute_result"
    }
   ],
   "source": [
    "df[['artist', 'song']]"
   ]
  },
  {
   "cell_type": "markdown",
   "metadata": {},
   "source": [
    "Wenn du den Datensatz nach einer bestimmten Eigenschaft filtern willst, also zum Beispiel nur die Lieder, die Mal auf dem ersten Platz waren, kannst du das tun, indem du in den eckigen Klammern von df[] schreibst, wonach die Zeilen ausgewählt werden sollen."
   ]
  },
  {
   "cell_type": "code",
   "execution_count": 16,
   "metadata": {},
   "outputs": [
    {
     "data": {
      "text/html": [
       "<div>\n",
       "<style scoped>\n",
       "    .dataframe tbody tr th:only-of-type {\n",
       "        vertical-align: middle;\n",
       "    }\n",
       "\n",
       "    .dataframe tbody tr th {\n",
       "        vertical-align: top;\n",
       "    }\n",
       "\n",
       "    .dataframe thead th {\n",
       "        text-align: right;\n",
       "    }\n",
       "</style>\n",
       "<table border=\"1\" class=\"dataframe\">\n",
       "  <thead>\n",
       "    <tr style=\"text-align: right;\">\n",
       "      <th></th>\n",
       "      <th>tanzbarkeit</th>\n",
       "      <th>energie</th>\n",
       "      <th>dauer_s</th>\n",
       "      <th>artist</th>\n",
       "      <th>song</th>\n",
       "      <th>best_platz</th>\n",
       "      <th>Wochen_in_Charts</th>\n",
       "      <th>datum</th>\n",
       "      <th>stimmung</th>\n",
       "    </tr>\n",
       "  </thead>\n",
       "  <tbody>\n",
       "    <tr>\n",
       "      <th>0</th>\n",
       "      <td>0.474</td>\n",
       "      <td>0.338</td>\n",
       "      <td>153.933</td>\n",
       "      <td>Ricky Nelson</td>\n",
       "      <td>Poor Little Fool</td>\n",
       "      <td>1</td>\n",
       "      <td>1</td>\n",
       "      <td>1958-08-04</td>\n",
       "      <td>0.810</td>\n",
       "    </tr>\n",
       "    <tr>\n",
       "      <th>100</th>\n",
       "      <td>0.474</td>\n",
       "      <td>0.338</td>\n",
       "      <td>153.933</td>\n",
       "      <td>Ricky Nelson</td>\n",
       "      <td>Poor Little Fool</td>\n",
       "      <td>1</td>\n",
       "      <td>2</td>\n",
       "      <td>1958-08-11</td>\n",
       "      <td>0.810</td>\n",
       "    </tr>\n",
       "    <tr>\n",
       "      <th>200</th>\n",
       "      <td>0.518</td>\n",
       "      <td>0.060</td>\n",
       "      <td>216.373</td>\n",
       "      <td>Domenico Modugno</td>\n",
       "      <td>Nel Blu Dipinto Di Blu (Volare)</td>\n",
       "      <td>1</td>\n",
       "      <td>3</td>\n",
       "      <td>1958-08-18</td>\n",
       "      <td>0.336</td>\n",
       "    </tr>\n",
       "    <tr>\n",
       "      <th>203</th>\n",
       "      <td>0.474</td>\n",
       "      <td>0.338</td>\n",
       "      <td>153.933</td>\n",
       "      <td>Ricky Nelson</td>\n",
       "      <td>Poor Little Fool</td>\n",
       "      <td>1</td>\n",
       "      <td>3</td>\n",
       "      <td>1958-08-18</td>\n",
       "      <td>0.810</td>\n",
       "    </tr>\n",
       "    <tr>\n",
       "      <th>300</th>\n",
       "      <td>0.417</td>\n",
       "      <td>0.463</td>\n",
       "      <td>160.240</td>\n",
       "      <td>The Elegants</td>\n",
       "      <td>Little Star</td>\n",
       "      <td>1</td>\n",
       "      <td>4</td>\n",
       "      <td>1958-08-25</td>\n",
       "      <td>0.627</td>\n",
       "    </tr>\n",
       "    <tr>\n",
       "      <th>...</th>\n",
       "      <td>...</td>\n",
       "      <td>...</td>\n",
       "      <td>...</td>\n",
       "      <td>...</td>\n",
       "      <td>...</td>\n",
       "      <td>...</td>\n",
       "      <td>...</td>\n",
       "      <td>...</td>\n",
       "      <td>...</td>\n",
       "    </tr>\n",
       "    <tr>\n",
       "      <th>343128</th>\n",
       "      <td>0.429</td>\n",
       "      <td>0.453</td>\n",
       "      <td>227.196</td>\n",
       "      <td>Zach Bryan Featuring Kacey Musgraves</td>\n",
       "      <td>I Remember Everything</td>\n",
       "      <td>1</td>\n",
       "      <td>31</td>\n",
       "      <td>2024-04-06</td>\n",
       "      <td>0.155</td>\n",
       "    </tr>\n",
       "    <tr>\n",
       "      <th>343129</th>\n",
       "      <td>0.552</td>\n",
       "      <td>0.702</td>\n",
       "      <td>178.427</td>\n",
       "      <td>Taylor Swift</td>\n",
       "      <td>Cruel Summer</td>\n",
       "      <td>1</td>\n",
       "      <td>47</td>\n",
       "      <td>2024-04-06</td>\n",
       "      <td>0.564</td>\n",
       "    </tr>\n",
       "    <tr>\n",
       "      <th>343156</th>\n",
       "      <td>0.868</td>\n",
       "      <td>0.538</td>\n",
       "      <td>231.750</td>\n",
       "      <td>Doja Cat</td>\n",
       "      <td>Paint The Town Red</td>\n",
       "      <td>1</td>\n",
       "      <td>34</td>\n",
       "      <td>2024-04-06</td>\n",
       "      <td>0.732</td>\n",
       "    </tr>\n",
       "    <tr>\n",
       "      <th>343160</th>\n",
       "      <td>0.643</td>\n",
       "      <td>0.199</td>\n",
       "      <td>138.006</td>\n",
       "      <td>Taylor Swift</td>\n",
       "      <td>Is It Over Now? (Taylor's Version) [From The V...</td>\n",
       "      <td>1</td>\n",
       "      <td>22</td>\n",
       "      <td>2024-04-06</td>\n",
       "      <td>0.386</td>\n",
       "    </tr>\n",
       "    <tr>\n",
       "      <th>343174</th>\n",
       "      <td>0.714</td>\n",
       "      <td>0.729</td>\n",
       "      <td>181.684</td>\n",
       "      <td>Ariana Grande</td>\n",
       "      <td>Yes, And?</td>\n",
       "      <td>1</td>\n",
       "      <td>11</td>\n",
       "      <td>2024-04-06</td>\n",
       "      <td>0.577</td>\n",
       "    </tr>\n",
       "  </tbody>\n",
       "</table>\n",
       "<p>18261 rows × 9 columns</p>\n",
       "</div>"
      ],
      "text/plain": [
       "        tanzbarkeit  energie  dauer_s                                artist  \\\n",
       "0             0.474    0.338  153.933                          Ricky Nelson   \n",
       "100           0.474    0.338  153.933                          Ricky Nelson   \n",
       "200           0.518    0.060  216.373                      Domenico Modugno   \n",
       "203           0.474    0.338  153.933                          Ricky Nelson   \n",
       "300           0.417    0.463  160.240                          The Elegants   \n",
       "...             ...      ...      ...                                   ...   \n",
       "343128        0.429    0.453  227.196  Zach Bryan Featuring Kacey Musgraves   \n",
       "343129        0.552    0.702  178.427                          Taylor Swift   \n",
       "343156        0.868    0.538  231.750                              Doja Cat   \n",
       "343160        0.643    0.199  138.006                          Taylor Swift   \n",
       "343174        0.714    0.729  181.684                         Ariana Grande   \n",
       "\n",
       "                                                     song  best_platz  \\\n",
       "0                                        Poor Little Fool           1   \n",
       "100                                      Poor Little Fool           1   \n",
       "200                       Nel Blu Dipinto Di Blu (Volare)           1   \n",
       "203                                      Poor Little Fool           1   \n",
       "300                                           Little Star           1   \n",
       "...                                                   ...         ...   \n",
       "343128                              I Remember Everything           1   \n",
       "343129                                       Cruel Summer           1   \n",
       "343156                                 Paint The Town Red           1   \n",
       "343160  Is It Over Now? (Taylor's Version) [From The V...           1   \n",
       "343174                                          Yes, And?           1   \n",
       "\n",
       "        Wochen_in_Charts       datum  stimmung  \n",
       "0                      1  1958-08-04     0.810  \n",
       "100                    2  1958-08-11     0.810  \n",
       "200                    3  1958-08-18     0.336  \n",
       "203                    3  1958-08-18     0.810  \n",
       "300                    4  1958-08-25     0.627  \n",
       "...                  ...         ...       ...  \n",
       "343128                31  2024-04-06     0.155  \n",
       "343129                47  2024-04-06     0.564  \n",
       "343156                34  2024-04-06     0.732  \n",
       "343160                22  2024-04-06     0.386  \n",
       "343174                11  2024-04-06     0.577  \n",
       "\n",
       "[18261 rows x 9 columns]"
      ]
     },
     "execution_count": 16,
     "metadata": {},
     "output_type": "execute_result"
    }
   ],
   "source": [
    "df[df['best_platz'] == 1]"
   ]
  },
  {
   "cell_type": "markdown",
   "metadata": {},
   "source": [
    "Wenn du deine Auswahl als neuen Datensatz speichern willst, kannst du das wie mit den Variablen vorher tun:"
   ]
  },
  {
   "cell_type": "code",
   "execution_count": 17,
   "metadata": {},
   "outputs": [],
   "source": [
    "erst_platzierungen = df[df['best_platz'] == 1]"
   ]
  },
  {
   "cell_type": "markdown",
   "metadata": {},
   "source": [
    "#### Übung 2.1\n",
    "Filter den Datensatz 'df' danach, welche Lieder länger als 10 Wochen in den Charts waren. "
   ]
  },
  {
   "cell_type": "code",
   "execution_count": null,
   "metadata": {},
   "outputs": [],
   "source": []
  },
  {
   "cell_type": "markdown",
   "metadata": {},
   "source": [
    "Erstelle einen Datensatz, der nur das Datum und die Stimmung des Lieds enthält und nenne den Datensatz 'datum_stimmung'. "
   ]
  },
  {
   "cell_type": "code",
   "execution_count": null,
   "metadata": {},
   "outputs": [],
   "source": []
  },
  {
   "cell_type": "markdown",
   "metadata": {},
   "source": [
    "#### Gruppieren und sortieren\n",
    "Gerade haben wir im Datensatz für jede Chartplazierung in jeder Woche eine eigene Zeile. Wenn du gesammelte Informationen haben möchtest, also z.B. wiw häufig jeder Musiker in den Charts war, kannst du den Datensatz danach **gruppieren**. Dafür verwendest du **df.groupby(*Spaltenname*).size**. Mit **groupby** wird der Datensatz gruppiert und **size()** zählt aus, wie häufig der Künstler im Datensatz vorkommt."
   ]
  },
  {
   "cell_type": "code",
   "execution_count": 23,
   "metadata": {},
   "outputs": [
    {
     "data": {
      "text/html": [
       "<div>\n",
       "<style scoped>\n",
       "    .dataframe tbody tr th:only-of-type {\n",
       "        vertical-align: middle;\n",
       "    }\n",
       "\n",
       "    .dataframe tbody tr th {\n",
       "        vertical-align: top;\n",
       "    }\n",
       "\n",
       "    .dataframe thead th {\n",
       "        text-align: right;\n",
       "    }\n",
       "</style>\n",
       "<table border=\"1\" class=\"dataframe\">\n",
       "  <thead>\n",
       "    <tr style=\"text-align: right;\">\n",
       "      <th></th>\n",
       "      <th>artist</th>\n",
       "      <th>count</th>\n",
       "    </tr>\n",
       "  </thead>\n",
       "  <tbody>\n",
       "    <tr>\n",
       "      <th>0</th>\n",
       "      <td>\"Groove\" Holmes</td>\n",
       "      <td>14</td>\n",
       "    </tr>\n",
       "    <tr>\n",
       "      <th>1</th>\n",
       "      <td>\"Little\" Jimmy Dickens</td>\n",
       "      <td>10</td>\n",
       "    </tr>\n",
       "    <tr>\n",
       "      <th>2</th>\n",
       "      <td>\"Pookie\" Hudson</td>\n",
       "      <td>1</td>\n",
       "    </tr>\n",
       "    <tr>\n",
       "      <th>3</th>\n",
       "      <td>\"Weird Al\" Yankovic</td>\n",
       "      <td>91</td>\n",
       "    </tr>\n",
       "    <tr>\n",
       "      <th>4</th>\n",
       "      <td>$NOT &amp; A$AP Rocky</td>\n",
       "      <td>1</td>\n",
       "    </tr>\n",
       "    <tr>\n",
       "      <th>...</th>\n",
       "      <td>...</td>\n",
       "      <td>...</td>\n",
       "    </tr>\n",
       "    <tr>\n",
       "      <th>10793</th>\n",
       "      <td>¥$: Kanye West &amp; Ty Dolla $ign Featuring Lil D...</td>\n",
       "      <td>2</td>\n",
       "    </tr>\n",
       "    <tr>\n",
       "      <th>10794</th>\n",
       "      <td>¥$: Kanye West &amp; Ty Dolla $ign Featuring North...</td>\n",
       "      <td>2</td>\n",
       "    </tr>\n",
       "    <tr>\n",
       "      <th>10795</th>\n",
       "      <td>¥$: Kanye West &amp; Ty Dolla $ign Featuring Rich ...</td>\n",
       "      <td>4</td>\n",
       "    </tr>\n",
       "    <tr>\n",
       "      <th>10796</th>\n",
       "      <td>¥$: Ye &amp; Ty Dolla $ign</td>\n",
       "      <td>2</td>\n",
       "    </tr>\n",
       "    <tr>\n",
       "      <th>10797</th>\n",
       "      <td>¥$: Ye &amp; Ty Dolla $ign Featuring Rich The Kid ...</td>\n",
       "      <td>3</td>\n",
       "    </tr>\n",
       "  </tbody>\n",
       "</table>\n",
       "<p>10798 rows × 2 columns</p>\n",
       "</div>"
      ],
      "text/plain": [
       "                                                  artist  count\n",
       "0                                        \"Groove\" Holmes     14\n",
       "1                                 \"Little\" Jimmy Dickens     10\n",
       "2                                        \"Pookie\" Hudson      1\n",
       "3                                    \"Weird Al\" Yankovic     91\n",
       "4                                      $NOT & A$AP Rocky      1\n",
       "...                                                  ...    ...\n",
       "10793  ¥$: Kanye West & Ty Dolla $ign Featuring Lil D...      2\n",
       "10794  ¥$: Kanye West & Ty Dolla $ign Featuring North...      2\n",
       "10795  ¥$: Kanye West & Ty Dolla $ign Featuring Rich ...      4\n",
       "10796                             ¥$: Ye & Ty Dolla $ign      2\n",
       "10797  ¥$: Ye & Ty Dolla $ign Featuring Rich The Kid ...      3\n",
       "\n",
       "[10798 rows x 2 columns]"
      ]
     },
     "execution_count": 23,
     "metadata": {},
     "output_type": "execute_result"
    }
   ],
   "source": [
    "df.groupby('artist').size().reset_index(name='count')"
   ]
  },
  {
   "cell_type": "markdown",
   "metadata": {},
   "source": [
    "Wenn du nach mehreren Spalten kombinieren willst, also zum Beispiel wie häufig ein Künstler mit einem Lied in den Charts war, schreibst du statt einem Spaltenname eine Liste:"
   ]
  },
  {
   "cell_type": "code",
   "execution_count": 26,
   "metadata": {},
   "outputs": [
    {
     "data": {
      "text/html": [
       "<div>\n",
       "<style scoped>\n",
       "    .dataframe tbody tr th:only-of-type {\n",
       "        vertical-align: middle;\n",
       "    }\n",
       "\n",
       "    .dataframe tbody tr th {\n",
       "        vertical-align: top;\n",
       "    }\n",
       "\n",
       "    .dataframe thead th {\n",
       "        text-align: right;\n",
       "    }\n",
       "</style>\n",
       "<table border=\"1\" class=\"dataframe\">\n",
       "  <thead>\n",
       "    <tr style=\"text-align: right;\">\n",
       "      <th></th>\n",
       "      <th>artist</th>\n",
       "      <th>song</th>\n",
       "      <th>anzahl</th>\n",
       "    </tr>\n",
       "  </thead>\n",
       "  <tbody>\n",
       "    <tr>\n",
       "      <th>0</th>\n",
       "      <td>\"Groove\" Holmes</td>\n",
       "      <td>Misty</td>\n",
       "      <td>11</td>\n",
       "    </tr>\n",
       "    <tr>\n",
       "      <th>1</th>\n",
       "      <td>\"Groove\" Holmes</td>\n",
       "      <td>What Now My Love</td>\n",
       "      <td>3</td>\n",
       "    </tr>\n",
       "    <tr>\n",
       "      <th>2</th>\n",
       "      <td>\"Little\" Jimmy Dickens</td>\n",
       "      <td>May The Bird Of Paradise Fly Up Your Nose</td>\n",
       "      <td>10</td>\n",
       "    </tr>\n",
       "    <tr>\n",
       "      <th>3</th>\n",
       "      <td>\"Pookie\" Hudson</td>\n",
       "      <td>I Know I Know</td>\n",
       "      <td>1</td>\n",
       "    </tr>\n",
       "    <tr>\n",
       "      <th>4</th>\n",
       "      <td>\"Weird Al\" Yankovic</td>\n",
       "      <td>Amish Paradise</td>\n",
       "      <td>16</td>\n",
       "    </tr>\n",
       "    <tr>\n",
       "      <th>...</th>\n",
       "      <td>...</td>\n",
       "      <td>...</td>\n",
       "      <td>...</td>\n",
       "    </tr>\n",
       "    <tr>\n",
       "      <th>31176</th>\n",
       "      <td>¥$: Kanye West &amp; Ty Dolla $ign Featuring North...</td>\n",
       "      <td>Talking</td>\n",
       "      <td>2</td>\n",
       "    </tr>\n",
       "    <tr>\n",
       "      <th>31177</th>\n",
       "      <td>¥$: Kanye West &amp; Ty Dolla $ign Featuring Rich ...</td>\n",
       "      <td>Carnival</td>\n",
       "      <td>4</td>\n",
       "    </tr>\n",
       "    <tr>\n",
       "      <th>31178</th>\n",
       "      <td>¥$: Ye &amp; Ty Dolla $ign</td>\n",
       "      <td>Burn</td>\n",
       "      <td>1</td>\n",
       "    </tr>\n",
       "    <tr>\n",
       "      <th>31179</th>\n",
       "      <td>¥$: Ye &amp; Ty Dolla $ign</td>\n",
       "      <td>Fuk Sumn</td>\n",
       "      <td>1</td>\n",
       "    </tr>\n",
       "    <tr>\n",
       "      <th>31180</th>\n",
       "      <td>¥$: Ye &amp; Ty Dolla $ign Featuring Rich The Kid ...</td>\n",
       "      <td>Carnival</td>\n",
       "      <td>3</td>\n",
       "    </tr>\n",
       "  </tbody>\n",
       "</table>\n",
       "<p>31181 rows × 3 columns</p>\n",
       "</div>"
      ],
      "text/plain": [
       "                                                  artist  \\\n",
       "0                                        \"Groove\" Holmes   \n",
       "1                                        \"Groove\" Holmes   \n",
       "2                                 \"Little\" Jimmy Dickens   \n",
       "3                                        \"Pookie\" Hudson   \n",
       "4                                    \"Weird Al\" Yankovic   \n",
       "...                                                  ...   \n",
       "31176  ¥$: Kanye West & Ty Dolla $ign Featuring North...   \n",
       "31177  ¥$: Kanye West & Ty Dolla $ign Featuring Rich ...   \n",
       "31178                             ¥$: Ye & Ty Dolla $ign   \n",
       "31179                             ¥$: Ye & Ty Dolla $ign   \n",
       "31180  ¥$: Ye & Ty Dolla $ign Featuring Rich The Kid ...   \n",
       "\n",
       "                                            song  anzahl  \n",
       "0                                          Misty      11  \n",
       "1                               What Now My Love       3  \n",
       "2      May The Bird Of Paradise Fly Up Your Nose      10  \n",
       "3                                  I Know I Know       1  \n",
       "4                                 Amish Paradise      16  \n",
       "...                                          ...     ...  \n",
       "31176                                    Talking       2  \n",
       "31177                                   Carnival       4  \n",
       "31178                                       Burn       1  \n",
       "31179                                   Fuk Sumn       1  \n",
       "31180                                   Carnival       3  \n",
       "\n",
       "[31181 rows x 3 columns]"
      ]
     },
     "execution_count": 26,
     "metadata": {},
     "output_type": "execute_result"
    }
   ],
   "source": [
    "kuenstler_lied = df.groupby(['artist', 'song']).size().reset_index(name='anzahl')\n",
    "kuenstler_lied"
   ]
  },
  {
   "cell_type": "markdown",
   "metadata": {},
   "source": [
    "Wenn du einen Datensatz sortieren willst, kannst du das mit dem **df.sort_values(by = '*Spaltenname*')** Befehl tun. Dabei kannst du den Datensatz entweder aufsteigend sortieren mit **df.sort_values(by = '*Spaltenname*', *ascending = True*)** oder absteigend mit **df.sort_values(by = '*Spaltenname*', *ascending = False*)**.\n",
    " Wenn du zum Beispiel wissen willst, welche Lieder am häuifigsten in den Charts waren, kannst du folgenden Code benutzen:"
   ]
  },
  {
   "cell_type": "code",
   "execution_count": 27,
   "metadata": {},
   "outputs": [
    {
     "data": {
      "text/html": [
       "<div>\n",
       "<style scoped>\n",
       "    .dataframe tbody tr th:only-of-type {\n",
       "        vertical-align: middle;\n",
       "    }\n",
       "\n",
       "    .dataframe tbody tr th {\n",
       "        vertical-align: top;\n",
       "    }\n",
       "\n",
       "    .dataframe thead th {\n",
       "        text-align: right;\n",
       "    }\n",
       "</style>\n",
       "<table border=\"1\" class=\"dataframe\">\n",
       "  <thead>\n",
       "    <tr style=\"text-align: right;\">\n",
       "      <th></th>\n",
       "      <th>artist</th>\n",
       "      <th>song</th>\n",
       "      <th>anzahl</th>\n",
       "    </tr>\n",
       "  </thead>\n",
       "  <tbody>\n",
       "    <tr>\n",
       "      <th>10497</th>\n",
       "      <td>Glass Animals</td>\n",
       "      <td>Heat Waves</td>\n",
       "      <td>91</td>\n",
       "    </tr>\n",
       "    <tr>\n",
       "      <th>28667</th>\n",
       "      <td>The Weeknd</td>\n",
       "      <td>Blinding Lights</td>\n",
       "      <td>90</td>\n",
       "    </tr>\n",
       "    <tr>\n",
       "      <th>11764</th>\n",
       "      <td>Imagine Dragons</td>\n",
       "      <td>Radioactive</td>\n",
       "      <td>87</td>\n",
       "    </tr>\n",
       "    <tr>\n",
       "      <th>30419</th>\n",
       "      <td>Whitney Houston</td>\n",
       "      <td>I Will Always Love You</td>\n",
       "      <td>87</td>\n",
       "    </tr>\n",
       "    <tr>\n",
       "      <th>25298</th>\n",
       "      <td>The 4 Seasons</td>\n",
       "      <td>December, 1963 (Oh, What a Night)</td>\n",
       "      <td>81</td>\n",
       "    </tr>\n",
       "    <tr>\n",
       "      <th>...</th>\n",
       "      <td>...</td>\n",
       "      <td>...</td>\n",
       "      <td>...</td>\n",
       "    </tr>\n",
       "    <tr>\n",
       "      <th>18463</th>\n",
       "      <td>Migos</td>\n",
       "      <td>Versace</td>\n",
       "      <td>1</td>\n",
       "    </tr>\n",
       "    <tr>\n",
       "      <th>18461</th>\n",
       "      <td>Migos</td>\n",
       "      <td>Supastars</td>\n",
       "      <td>1</td>\n",
       "    </tr>\n",
       "    <tr>\n",
       "      <th>18457</th>\n",
       "      <td>Migos</td>\n",
       "      <td>Modern Day</td>\n",
       "      <td>1</td>\n",
       "    </tr>\n",
       "    <tr>\n",
       "      <th>18456</th>\n",
       "      <td>Migos</td>\n",
       "      <td>Look At My Dab</td>\n",
       "      <td>1</td>\n",
       "    </tr>\n",
       "    <tr>\n",
       "      <th>6525</th>\n",
       "      <td>David Kushner</td>\n",
       "      <td>Skin And Bones</td>\n",
       "      <td>1</td>\n",
       "    </tr>\n",
       "  </tbody>\n",
       "</table>\n",
       "<p>31181 rows × 3 columns</p>\n",
       "</div>"
      ],
      "text/plain": [
       "                artist                               song  anzahl\n",
       "10497    Glass Animals                         Heat Waves      91\n",
       "28667       The Weeknd                    Blinding Lights      90\n",
       "11764  Imagine Dragons                        Radioactive      87\n",
       "30419  Whitney Houston             I Will Always Love You      87\n",
       "25298    The 4 Seasons  December, 1963 (Oh, What a Night)      81\n",
       "...                ...                                ...     ...\n",
       "18463            Migos                            Versace       1\n",
       "18461            Migos                          Supastars       1\n",
       "18457            Migos                         Modern Day       1\n",
       "18456            Migos                     Look At My Dab       1\n",
       "6525     David Kushner                     Skin And Bones       1\n",
       "\n",
       "[31181 rows x 3 columns]"
      ]
     },
     "execution_count": 27,
     "metadata": {},
     "output_type": "execute_result"
    }
   ],
   "source": [
    "kuenstler_lied.sort_values(by = 'anzahl', ascending = False)"
   ]
  },
  {
   "cell_type": "markdown",
   "metadata": {},
   "source": [
    "#### Übung 2.2\n",
    "Sortiere den Datensatz danach, wie viel \"tanzbar\" die Lieder sind. Verwende dafür die \"Tanzbarkeit\" Spalte und sortiere die Lieder absteigend."
   ]
  },
  {
   "cell_type": "code",
   "execution_count": null,
   "metadata": {},
   "outputs": [],
   "source": []
  },
  {
   "cell_type": "markdown",
   "metadata": {},
   "source": [
    "Gruppiere als nächstes wollen wir wissen, wie die Musik in den verschiedenen Chartwochen war. Gruppiere dafür nach dem Datum und berechne die durchschnittliche Tanzbarkeit und Stimmung der Lieder. Ergänze dafür den folgenden Code:"
   ]
  },
  {
   "cell_type": "code",
   "execution_count": 35,
   "metadata": {},
   "outputs": [
    {
     "data": {
      "text/html": [
       "<div>\n",
       "<style scoped>\n",
       "    .dataframe tbody tr th:only-of-type {\n",
       "        vertical-align: middle;\n",
       "    }\n",
       "\n",
       "    .dataframe tbody tr th {\n",
       "        vertical-align: top;\n",
       "    }\n",
       "\n",
       "    .dataframe thead th {\n",
       "        text-align: right;\n",
       "    }\n",
       "</style>\n",
       "<table border=\"1\" class=\"dataframe\">\n",
       "  <thead>\n",
       "    <tr style=\"text-align: right;\">\n",
       "      <th></th>\n",
       "      <th>tanzbarkeit</th>\n",
       "      <th>stimmung</th>\n",
       "    </tr>\n",
       "    <tr>\n",
       "      <th>datum</th>\n",
       "      <th></th>\n",
       "      <th></th>\n",
       "    </tr>\n",
       "  </thead>\n",
       "  <tbody>\n",
       "    <tr>\n",
       "      <th>1958-08-04</th>\n",
       "      <td>0.469667</td>\n",
       "      <td>0.591000</td>\n",
       "    </tr>\n",
       "    <tr>\n",
       "      <th>1958-08-11</th>\n",
       "      <td>0.469667</td>\n",
       "      <td>0.591000</td>\n",
       "    </tr>\n",
       "    <tr>\n",
       "      <th>1958-08-18</th>\n",
       "      <td>0.470000</td>\n",
       "      <td>0.601750</td>\n",
       "    </tr>\n",
       "    <tr>\n",
       "      <th>1958-08-25</th>\n",
       "      <td>0.470000</td>\n",
       "      <td>0.601750</td>\n",
       "    </tr>\n",
       "    <tr>\n",
       "      <th>1958-09-01</th>\n",
       "      <td>0.470000</td>\n",
       "      <td>0.601750</td>\n",
       "    </tr>\n",
       "    <tr>\n",
       "      <th>...</th>\n",
       "      <td>...</td>\n",
       "      <td>...</td>\n",
       "    </tr>\n",
       "    <tr>\n",
       "      <th>2024-03-09</th>\n",
       "      <td>0.654462</td>\n",
       "      <td>0.470154</td>\n",
       "    </tr>\n",
       "    <tr>\n",
       "      <th>2024-03-16</th>\n",
       "      <td>0.654462</td>\n",
       "      <td>0.470154</td>\n",
       "    </tr>\n",
       "    <tr>\n",
       "      <th>2024-03-23</th>\n",
       "      <td>0.646182</td>\n",
       "      <td>0.433636</td>\n",
       "    </tr>\n",
       "    <tr>\n",
       "      <th>2024-03-30</th>\n",
       "      <td>0.646182</td>\n",
       "      <td>0.433636</td>\n",
       "    </tr>\n",
       "    <tr>\n",
       "      <th>2024-04-06</th>\n",
       "      <td>0.689400</td>\n",
       "      <td>0.421400</td>\n",
       "    </tr>\n",
       "  </tbody>\n",
       "</table>\n",
       "<p>3427 rows × 2 columns</p>\n",
       "</div>"
      ],
      "text/plain": [
       "            tanzbarkeit  stimmung\n",
       "datum                            \n",
       "1958-08-04     0.469667  0.591000\n",
       "1958-08-11     0.469667  0.591000\n",
       "1958-08-18     0.470000  0.601750\n",
       "1958-08-25     0.470000  0.601750\n",
       "1958-09-01     0.470000  0.601750\n",
       "...                 ...       ...\n",
       "2024-03-09     0.654462  0.470154\n",
       "2024-03-16     0.654462  0.470154\n",
       "2024-03-23     0.646182  0.433636\n",
       "2024-03-30     0.646182  0.433636\n",
       "2024-04-06     0.689400  0.421400\n",
       "\n",
       "[3427 rows x 2 columns]"
      ]
     },
     "execution_count": 35,
     "metadata": {},
     "output_type": "execute_result"
    }
   ],
   "source": [
    "tanz_stimm = df.groupby('_ergänze_Spalte_zum_gruppieren')[[_hier_spalten_namen_eingeben]].mean()\n",
    "tanz_stimm"
   ]
  },
  {
   "cell_type": "markdown",
   "metadata": {},
   "source": [
    "#### Grafiken und Schaubilder\n",
    "Du kannst auch Grafiken erstellen um die Informationen besser sichtbar zu machen.\n",
    "\n",
    "##### Liniendiagramm"
   ]
  },
  {
   "cell_type": "markdown",
   "metadata": {},
   "source": [
    "Wenn du sehen möchtest, wie sich die Tanzbarkeit der Lieder über die Jahre verändert hat, kannst du eine Grafik mit dem **tanz_stimm** Datensatz erstellen. "
   ]
  },
  {
   "cell_type": "code",
   "execution_count": 41,
   "metadata": {},
   "outputs": [
    {
     "data": {
      "text/plain": [
       "<Axes: xlabel='datum'>"
      ]
     },
     "execution_count": 41,
     "metadata": {},
     "output_type": "execute_result"
    },
    {
     "data": {
      "image/png": "[encoded data removed]",
      "text/plain": [
       "<Figure size 1000x400 with 1 Axes>"
      ]
     },
     "metadata": {},
     "output_type": "display_data"
    }
   ],
   "source": [
    "plt.figure(figsize=(10, 4)) # damit kannst du die Größe der Grafik einstellen\n",
    "tanz_stimm['tanzbarkeit'].plot()"
   ]
  },
  {
   "cell_type": "markdown",
   "metadata": {},
   "source": [
    "#### Übung 3.1\n",
    "Erstelle diesen Plot nochmal für die Stimmung der Lieder? Wird die durchschnittliche Stimmung der Lieder in den Charts postiver oder negativer? (Höhere Werte deuten auf eine positivere Stimmung hin)"
   ]
  },
  {
   "cell_type": "code",
   "execution_count": null,
   "metadata": {},
   "outputs": [],
   "source": []
  },
  {
   "cell_type": "markdown",
   "metadata": {},
   "source": [
    "##### Punktediagramm\n",
    "Wir können Zusammenhänge auch in der Form von Punkteplots darstellen. Zum Beispiel können wir untersuchen, ob Lieder, die mit einer höheren Energie eingeschätzt werden häufiger in den Charts landen. Dafür benutzen wir folgenden gruppierten Datensatz:"
   ]
  },
  {
   "cell_type": "code",
   "execution_count": 59,
   "metadata": {},
   "outputs": [],
   "source": [
    "gruppiert_song = df.groupby(['artist', 'song']).agg(Anzahl=('artist', 'size'), dauer_s=('dauer_s', 'mean'), energie=('energie', 'mean')  ).reset_index()\n"
   ]
  },
  {
   "cell_type": "markdown",
   "metadata": {},
   "source": [
    "Den Plot kannst du erstellen indem du den folgenden Code verwendest. Der erste Spaltenname legt fest, was auf der X-Achse eingetragen wird, und der zweite legt die Werte für die Y-Achse fest."
   ]
  },
  {
   "cell_type": "code",
   "execution_count": 61,
   "metadata": {},
   "outputs": [
    {
     "data": {
      "text/plain": [
       "Text(0, 0.5, 'Energie')"
      ]
     },
     "execution_count": 61,
     "metadata": {},
     "output_type": "execute_result"
    },
    {
     "data": {
      "image/png": "[encoded data removed]",
      "text/plain": [
       "<Figure size 1000x600 with 1 Axes>"
      ]
     },
     "metadata": {},
     "output_type": "display_data"
    }
   ],
   "source": [
    "plt.figure(figsize=(10, 6))\n",
    "plt.scatter(gruppiert_song['Anzahl'], gruppiert_song['energie'], alpha=0.5)\n",
    "plt.xlabel('Anzahl')\n",
    "plt.ylabel('Energie')"
   ]
  },
  {
   "cell_type": "markdown",
   "metadata": {},
   "source": [
    "#### Übung 3.2\n",
    "Man hört oft, dass Lieder kürzer sind, damit sie häufiger geklickt werden. Erstelle einen Punkteplot, wie den oben mit der Dauer und Anzahl der Charterscheinungen, um zu sehen, ob kürzere Lieder auch in unserem Datensatz häufiger in den Charts sind. "
   ]
  },
  {
   "cell_type": "code",
   "execution_count": null,
   "metadata": {},
   "outputs": [],
   "source": []
  }
 ],
 "metadata": {
  "kernelspec": {
   "display_name": "kn-girls-day-24-P708afIi-py3.11",
   "language": "python",
   "name": "python3"
  },
  "language_info": {
   "codemirror_mode": {
    "name": "ipython",
    "version": 3
   },
   "file_extension": ".py",
   "mimetype": "text/x-python",
   "name": "python",
   "nbconvert_exporter": "python",
   "pygments_lexer": "ipython3",
   "version": "3.11.3"
  }
 },
 "nbformat": 4,
 "nbformat_minor": 2
}
